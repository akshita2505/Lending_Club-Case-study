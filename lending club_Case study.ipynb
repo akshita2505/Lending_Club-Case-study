{
 "cells": [
  {
   "cell_type": "code",
   "execution_count": 16,
   "id": "9f8c0cc2",
   "metadata": {},
   "outputs": [
    {
     "ename": "SyntaxError",
     "evalue": "(unicode error) 'unicodeescape' codec can't decode bytes in position 2-3: truncated \\UXXXXXXXX escape (4247112252.py, line 6)",
     "output_type": "error",
     "traceback": [
      "\u001b[1;36m  Cell \u001b[1;32mIn[16], line 6\u001b[1;36m\u001b[0m\n\u001b[1;33m    data = pd.read_csv(\"C:\\Users\\DELL\\Desktop.csv\\loan.csv\")\u001b[0m\n\u001b[1;37m                                                           ^\u001b[0m\n\u001b[1;31mSyntaxError\u001b[0m\u001b[1;31m:\u001b[0m (unicode error) 'unicodeescape' codec can't decode bytes in position 2-3: truncated \\UXXXXXXXX escape\n"
     ]
    }
   ],
   "source": [
    "#Exploratory Data Analysis: Begin by analyzing the structure of the dataset. For this, you can use pandas and numpy libraries in Python. Here is a basic code snippet:\n",
    "import pandas as pd\n",
    "import numpy as np\n",
    "\n",
    "# Load the dataset\n",
    "data = pd.read_csv(\"C:\\Users\\DELL\\Desktop.csv\\loan.csv\")\n",
    "\n",
    "# Check the shape of the dataset\n",
    "print(\"Shape of the dataset: \", data.shape)\n",
    "\n",
    "# Get the list of all the columns\n",
    "print(\"Columns in the dataset: \", data.columns)\n",
    "\n",
    "# Check the datatype of each column\n",
    "print(\"Data types in the dataset: \", data.dtypes)\n",
    "\n",
    "# Get the first few rows of the dataset\n",
    "print(data.head())\n",
    "#Cleaning and Preprocessing: Ensure the data is clean and preprocessed for further analysis. Handle missing values, convert categorical data into numerical form, etc. Here is a basic code snippet:\n",
    "# Fill missing values with the mean value of each column\n",
    "for column in data.columns:\n",
    "    if data[column].isnull().any():\n",
    "        if np.issubdtype(data[column].dtype, np.number):\n",
    "            data[column].fillna(data[column].mean(), inplace=True)\n",
    "        else:\n",
    "            data[column].fillna(data[column].mode()[0], inplace=True)\n",
    "#Feature Engineering: Create new features from the existing data that can potentially improve the accuracy of the model. For example, you can calculate the loan-to-income ratio or the loan-to-value ratio. Here is a basic code snippet:\n",
    "# Create a new feature 'loan_to_income_ratio'\n",
    "data['loan_to_income_ratio'] = data['loan_amnt'] / data['funded_amnt']\n",
    "#Feature Selection: Choose the most relevant features to predict the loan's acceptance status. This can be done using various techniques such as correlation analysis, recursive feature elimination, etc. Here is a basic code snippet:\n",
    "# Get the list of all the features\n",
    "features = data.columns.tolist()\n",
    "\n",
    "# Remove the 'loan_status' column from the list of features\n",
    "features.remove('loan_status')"
   ]
  },
  {
   "cell_type": "code",
   "execution_count": null,
   "id": "87f2c83d",
   "metadata": {},
   "outputs": [],
   "source": []
  }
 ],
 "metadata": {
  "kernelspec": {
   "display_name": "Python 3 (ipykernel)",
   "language": "python",
   "name": "python3"
  },
  "language_info": {
   "codemirror_mode": {
    "name": "ipython",
    "version": 3
   },
   "file_extension": ".py",
   "mimetype": "text/x-python",
   "name": "python",
   "nbconvert_exporter": "python",
   "pygments_lexer": "ipython3",
   "version": "3.11.5"
  }
 },
 "nbformat": 4,
 "nbformat_minor": 5
}
